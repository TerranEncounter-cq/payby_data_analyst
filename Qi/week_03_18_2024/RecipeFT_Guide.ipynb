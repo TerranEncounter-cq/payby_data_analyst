{
 "cells": [
  {
   "cell_type": "code",
   "execution_count": 27,
   "id": "12545fa6",
   "metadata": {},
   "outputs": [
    {
     "name": "stderr",
     "output_type": "stream",
     "text": [
      "Warning : `load_model` does not return WordVectorModel or SupervisedModel any more, but a `FastText` object which is very similar.\n"
     ]
    },
    {
     "data": {
      "text/plain": [
       "0"
      ]
     },
     "execution_count": 27,
     "metadata": {},
     "output_type": "execute_result"
    }
   ],
   "source": [
    "# Imports\n",
    "import pandas as pd\n",
    "from tqdm import tqdm\n",
    "import numpy as np\n",
    "import fasttext\n",
    "\n",
    "YOUR_DATASET = 'all_dish_names_ENG.csv'\n",
    "model = fasttext.load_model(\"RecipeFT_weights.bin\")\n",
    "\n",
    "# If your dataset is in .csv format\n",
    "food_df = pd.read_csv(YOUR_DATASET, header=None, names=['name'])\n",
    "\n",
    "# Check if there is item with no(NaN) name\n",
    "len(food_df.loc[pd.isna(food_df[\"name\"]), :].index)\n"
   ]
  },
  {
   "cell_type": "code",
   "execution_count": 28,
   "id": "80861de0",
   "metadata": {},
   "outputs": [],
   "source": [
    "food_name = list(food_df[\"name\"])"
   ]
  },
  {
   "cell_type": "code",
   "execution_count": 29,
   "id": "61fd9f5e",
   "metadata": {},
   "outputs": [
    {
     "name": "stderr",
     "output_type": "stream",
     "text": [
      "100%|██████████| 498/498 [00:00<00:00, 216699.18it/s]\n"
     ]
    }
   ],
   "source": [
    "# tokenize with fasttext\n",
    "word_tokens = [fasttext.tokenize(sent) for sent in tqdm(food_name)]"
   ]
  },
  {
   "cell_type": "code",
   "execution_count": 30,
   "id": "1bbedbe3",
   "metadata": {},
   "outputs": [
    {
     "name": "stderr",
     "output_type": "stream",
     "text": [
      "  0%|          | 0/498 [00:00<?, ?it/s]"
     ]
    },
    {
     "name": "stderr",
     "output_type": "stream",
     "text": [
      "100%|██████████| 498/498 [00:00<00:00, 9125.86it/s]\n"
     ]
    }
   ],
   "source": [
    "# Get average embeddings for each name\n",
    "ft_we=list()\n",
    "for menu in tqdm(word_tokens):\n",
    "    tmp = []\n",
    "    for w in menu:\n",
    "        try:\n",
    "            tmp.append(model.get_word_vector(w))\n",
    "        except KeyError:\n",
    "            continue\n",
    "    tmp=np.mean(tmp, axis=0)\n",
    "    ft_we.append(tmp)"
   ]
  },
  {
   "cell_type": "code",
   "execution_count": 31,
   "id": "09ede0bd",
   "metadata": {},
   "outputs": [],
   "source": [
    "# Convert it to array\n",
    "ft_we=np.array(ft_we)"
   ]
  },
  {
   "cell_type": "code",
   "execution_count": 32,
   "id": "cdbabfa1",
   "metadata": {},
   "outputs": [
    {
     "data": {
      "text/plain": [
       "(498, 300)"
      ]
     },
     "execution_count": 32,
     "metadata": {},
     "output_type": "execute_result"
    }
   ],
   "source": [
    "# Check the dimension\n",
    "ft_we.shape"
   ]
  },
  {
   "cell_type": "code",
   "execution_count": 33,
   "id": "f9adb53d",
   "metadata": {},
   "outputs": [],
   "source": [
    "# Save embeddings\n",
    "np.save('ALL_RecipeFT_embedding.npy', ft_we)"
   ]
  }
 ],
 "metadata": {
  "kernelspec": {
   "display_name": "Python 3 (ipykernel)",
   "language": "python",
   "name": "python3"
  },
  "language_info": {
   "codemirror_mode": {
    "name": "ipython",
    "version": 3
   },
   "file_extension": ".py",
   "mimetype": "text/x-python",
   "name": "python",
   "nbconvert_exporter": "python",
   "pygments_lexer": "ipython3",
   "version": "3.9.6"
  }
 },
 "nbformat": 4,
 "nbformat_minor": 5
}
