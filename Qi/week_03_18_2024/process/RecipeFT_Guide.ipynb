{
 "cells": [
  {
   "cell_type": "code",
   "execution_count": 1,
   "id": "12545fa6",
   "metadata": {},
   "outputs": [
    {
     "name": "stderr",
     "output_type": "stream",
     "text": [
      "C:\\Users\\13419\\AppData\\Local\\Temp\\ipykernel_4064\\2728554777.py:2: DeprecationWarning: \n",
      "Pyarrow will become a required dependency of pandas in the next major release of pandas (pandas 3.0),\n",
      "(to allow more performant data types, such as the Arrow string type, and better interoperability with other libraries)\n",
      "but was not found to be installed on your system.\n",
      "If this would cause problems for you,\n",
      "please provide us feedback at https://github.com/pandas-dev/pandas/issues/54466\n",
      "        \n",
      "  import pandas as pd\n"
     ]
    },
    {
     "ename": "ModuleNotFoundError",
     "evalue": "No module named 'fasttext'",
     "output_type": "error",
     "traceback": [
      "\u001b[1;31m---------------------------------------------------------------------------\u001b[0m",
      "\u001b[1;31mModuleNotFoundError\u001b[0m                       Traceback (most recent call last)",
      "Cell \u001b[1;32mIn[1], line 5\u001b[0m\n\u001b[0;32m      3\u001b[0m \u001b[38;5;28;01mfrom\u001b[39;00m \u001b[38;5;21;01mtqdm\u001b[39;00m \u001b[38;5;28;01mimport\u001b[39;00m tqdm\n\u001b[0;32m      4\u001b[0m \u001b[38;5;28;01mimport\u001b[39;00m \u001b[38;5;21;01mnumpy\u001b[39;00m \u001b[38;5;28;01mas\u001b[39;00m \u001b[38;5;21;01mnp\u001b[39;00m\n\u001b[1;32m----> 5\u001b[0m \u001b[38;5;28;01mimport\u001b[39;00m \u001b[38;5;21;01mfasttext\u001b[39;00m\n",
      "\u001b[1;31mModuleNotFoundError\u001b[0m: No module named 'fasttext'"
     ]
    }
   ],
   "source": [
    "# Imports\n",
    "import pandas as pd\n",
    "from tqdm import tqdm\n",
    "import numpy as np\n",
    "import fasttext"
   ]
  },
  {
   "cell_type": "code",
   "execution_count": 3,
   "id": "1349d60d",
   "metadata": {},
   "outputs": [
    {
     "name": "stderr",
     "output_type": "stream",
     "text": [
      "Warning : `load_model` does not return WordVectorModel or SupervisedModel any more, but a `FastText` object which is very similar.\n"
     ]
    }
   ],
   "source": [
    "model = fasttext.load_model(\"RecipeFT_weights.bin\")"
   ]
  },
  {
   "cell_type": "code",
   "execution_count": 4,
   "id": "b5bdc5e4",
   "metadata": {},
   "outputs": [],
   "source": [
    "# If your dataset is in .csv format\n",
    "food_df=pd.read_csv('dish_name_English.csv')\n",
    "# Check if there is item with no(NaN) name\n",
    "#len(food_df.loc[pd.isna(food_df[\"name\"]), :].index) "
   ]
  },
  {
   "cell_type": "code",
   "execution_count": 10,
   "id": "80861de0",
   "metadata": {},
   "outputs": [],
   "source": [
    "food_name = list(food_df[\"name\"])"
   ]
  },
  {
   "cell_type": "code",
   "execution_count": 11,
   "id": "61fd9f5e",
   "metadata": {},
   "outputs": [
    {
     "name": "stderr",
     "output_type": "stream",
     "text": [
      "100%|███████████████████████████████| 507335/507335 [00:01<00:00, 449344.80it/s]\n"
     ]
    }
   ],
   "source": [
    "# tokenize with fasttext\n",
    "word_tokens = [fasttext.tokenize(sent) for sent in tqdm(food_name)]"
   ]
  },
  {
   "cell_type": "code",
   "execution_count": 15,
   "id": "1bbedbe3",
   "metadata": {},
   "outputs": [
    {
     "name": "stderr",
     "output_type": "stream",
     "text": [
      "100%|████████████████████████████████| 507335/507335 [00:17<00:00, 29637.09it/s]\n"
     ]
    }
   ],
   "source": [
    "# Get average embeddings for each name\n",
    "ft_we=list()\n",
    "for menu in tqdm(word_tokens):\n",
    "    tmp = []\n",
    "    for w in menu:\n",
    "        try:\n",
    "            tmp.append(model.get_word_vector(w))\n",
    "        except KeyError:\n",
    "            continue\n",
    "    tmp=np.mean(tmp, axis=0)\n",
    "    ft_we.append(tmp)"
   ]
  },
  {
   "cell_type": "code",
   "execution_count": 17,
   "id": "09ede0bd",
   "metadata": {},
   "outputs": [],
   "source": [
    "# Convert it to array\n",
    "ft_we=np.array(ft_we)"
   ]
  },
  {
   "cell_type": "code",
   "execution_count": 22,
   "id": "cdbabfa1",
   "metadata": {},
   "outputs": [
    {
     "data": {
      "text/plain": [
       "(507335, 300)"
      ]
     },
     "execution_count": 22,
     "metadata": {},
     "output_type": "execute_result"
    }
   ],
   "source": [
    "# Check the dimension\n",
    "ft_we.shape"
   ]
  },
  {
   "cell_type": "code",
   "execution_count": 23,
   "id": "f9adb53d",
   "metadata": {},
   "outputs": [],
   "source": [
    "# Save embeddings\n",
    "np.save('{YOUR_DATASET}_RecipeFT_embedding.npy', ft_we)"
   ]
  }
 ],
 "metadata": {
  "kernelspec": {
   "display_name": "Python 3 (ipykernel)",
   "language": "python",
   "name": "python3"
  },
  "language_info": {
   "codemirror_mode": {
    "name": "ipython",
    "version": 3
   },
   "file_extension": ".py",
   "mimetype": "text/x-python",
   "name": "python",
   "nbconvert_exporter": "python",
   "pygments_lexer": "ipython3",
   "version": "3.12.0"
  }
 },
 "nbformat": 4,
 "nbformat_minor": 5
}
